{
 "cells": [
  {
   "cell_type": "code",
   "execution_count": 1,
   "metadata": {},
   "outputs": [],
   "source": [
    "import librosa\n",
    "import pandas as pd \n",
    "import numpy as np \n",
    "import matplotlib.pyplot as plt \n",
    "import os "
   ]
  },
  {
   "cell_type": "markdown",
   "metadata": {},
   "source": [
    "# Music Genre Classification project\n",
    "## My idea\n",
    "Use a single vector to represent an audio file and apply them to some discriminative models "
   ]
  },
  {
   "cell_type": "markdown",
   "metadata": {},
   "source": [
    "## Data loading \n",
    "Note : I have removed `.DS_Store` before loading files"
   ]
  },
  {
   "cell_type": "code",
   "execution_count": 2,
   "metadata": {},
   "outputs": [],
   "source": [
    "Path_List = [\n",
    "    'genre12/blues',\n",
    "    'genre12/classical',\n",
    "    'genre34/country',\n",
    "    'genre34/disco',\n",
    "    'genre56/hiphop',\n",
    "    'genre56/jazz',\n",
    "    'genre78/metal',\n",
    "    'genre78/pop',\n",
    "    'genre910/reggae',\n",
    "    'genre910/rock'\n",
    "]\n",
    "CWD = os.getcwd()"
   ]
  },
  {
   "cell_type": "code",
   "execution_count": 3,
   "metadata": {},
   "outputs": [],
   "source": [
    "genre_list = [\n",
    "    'blues',\n",
    "    'classical',\n",
    "    'country',\n",
    "    'disco',\n",
    "    'hiphop',\n",
    "    'jazz',\n",
    "    'metal',\n",
    "    'pop',\n",
    "    'reggae',\n",
    "    'rock'\n",
    "]"
   ]
  },
  {
   "cell_type": "code",
   "execution_count": 13,
   "metadata": {},
   "outputs": [],
   "source": [
    "songs_df = {\n",
    "    'filename':[],\n",
    "    'chroma_stft':[],\n",
    "    'spectral_centroid':[],\n",
    "    'rolloff':[],\n",
    "    'spectral_bandwidth':[],\n",
    "    'zero_crossing_rate':[],\n",
    "    'tempogram':[],\n",
    "    'mfcc1':[],\n",
    "    'mfcc2':[],\n",
    "    'mfcc3':[],\n",
    "    'mfcc4':[],\n",
    "    'mfcc5':[],\n",
    "    'mfcc6':[],\n",
    "    'mfcc7':[],\n",
    "    'mfcc8':[],\n",
    "    'mfcc9':[],\n",
    "    'mfcc10':[],\n",
    "    'mfcc11':[],\n",
    "    'mfcc12':[],\n",
    "    'mfcc13':[],\n",
    "    'mfcc14':[],\n",
    "    'mfcc15':[],\n",
    "    'mfcc16':[],\n",
    "    'mfcc17':[],\n",
    "    'mfcc18':[],\n",
    "    'mfcc19':[],\n",
    "    'mfcc20':[],\n",
    "    'label':[]\n",
    "}"
   ]
  },
  {
   "cell_type": "code",
   "execution_count": 14,
   "metadata": {},
   "outputs": [],
   "source": [
    "for genre, path in zip(genre_list, Path_List):\n",
    "    for files in os.listdir(path):\n",
    "        filedir = os.path.join(path, files)\n",
    "        y, sr = librosa.load(filedir)\n",
    "        chroma_stft = librosa.feature.chroma_stft(y=y, sr=sr)\n",
    "        spec_centroid = librosa.feature.spectral_centroid(y=y, sr=sr)\n",
    "        rolloff = librosa.feature.spectral_rolloff(y=y, sr=sr)\n",
    "        bandwidth = librosa.feature.spectral_bandwidth(y=y, sr=sr)\n",
    "        zcr = librosa.feature.zero_crossing_rate(y=y)\n",
    "        tempogram = librosa.feature.tempogram(y=y, sr=sr)\n",
    "        mfcc = librosa.feature.mfcc(y=y, sr=sr)\n",
    "        # insert elements to data frame\n",
    "        songs_df['filename'].append(files)\n",
    "        songs_df['chroma_stft'].append(np.mean(chroma_stft))\n",
    "        songs_df['spectral_centroid'].append(np.mean(spec_centroid))\n",
    "        songs_df['rolloff'].append(np.mean(rolloff))\n",
    "        songs_df['spectral_bandwidth'].append(np.mean(bandwidth))\n",
    "        songs_df['zero_crossing_rate'].append(np.mean(zcr))\n",
    "        songs_df['tempogram'].append(np.mean(tempogram))\n",
    "        songs_df['label'].append(genre)\n",
    "        for i, b in enumerate(mfcc):\n",
    "            songs_df[f'mfcc{i+1}'].append(np.mean(b))\n"
   ]
  },
  {
   "cell_type": "code",
   "execution_count": 15,
   "metadata": {},
   "outputs": [],
   "source": [
    "songs_df = pd.DataFrame(data=songs_df)"
   ]
  },
  {
   "cell_type": "code",
   "execution_count": 16,
   "metadata": {},
   "outputs": [
    {
     "output_type": "execute_result",
     "data": {
      "text/plain": "          filename  chroma_stft  spectral_centroid      rolloff  \\\n0  blues.00011.wav     0.367152        1352.659665  2880.777863   \n1  blues.00022.wav     0.306537        1155.781221  2169.033056   \n2  blues.00002.wav     0.363637        1552.811865  3042.260232   \n3  blues.00040.wav     0.397996        2272.439547  5108.215360   \n4  blues.00045.wav     0.429437        1739.134033  4551.141570   \n\n   spectral_bandwidth  zero_crossing_rate  tempogram       mfcc1       mfcc2  \\\n0         1756.779795            0.043931   0.123116 -287.923737  124.018753   \n1         1497.964259            0.058570   0.141313 -233.956253  136.145706   \n2         1747.702312            0.076291   0.134885  -90.722595  140.446304   \n3         2356.806514            0.097643   0.163252 -110.247993   90.702934   \n4         2290.407132            0.048048   0.194486 -163.216766   89.778847   \n\n       mfcc3  ...    mfcc12    mfcc13    mfcc14     mfcc15    mfcc16  \\\n0   5.469892  ... -3.178224 -5.536158 -6.784436  -2.648156 -2.994559   \n1   3.324411  ... -2.249821  3.947907  5.316488   0.810559 -1.107081   \n2 -29.093889  ...  5.791199 -8.907628 -1.077000  -9.229274  2.451689   \n3  -2.525756  ...  5.952004 -8.023324  4.232331 -16.481607  6.544709   \n4  12.976252  ...  6.014823 -2.903660 -0.428329 -17.539125  4.164019   \n\n     mfcc17    mfcc18    mfcc19    mfcc20  label  \n0 -3.386818 -1.852647  1.839963 -4.890803  blues  \n1 -4.556480 -2.430784  3.324836 -0.602447  blues  \n2 -7.729094 -1.816407 -3.439720 -2.231259  blues  \n3 -5.692046 -3.643349 -4.852754  1.853226  blues  \n4 -5.987196 -7.864172 -8.569909  1.854272  blues  \n\n[5 rows x 28 columns]",
      "text/html": "<div>\n<style scoped>\n    .dataframe tbody tr th:only-of-type {\n        vertical-align: middle;\n    }\n\n    .dataframe tbody tr th {\n        vertical-align: top;\n    }\n\n    .dataframe thead th {\n        text-align: right;\n    }\n</style>\n<table border=\"1\" class=\"dataframe\">\n  <thead>\n    <tr style=\"text-align: right;\">\n      <th></th>\n      <th>filename</th>\n      <th>chroma_stft</th>\n      <th>spectral_centroid</th>\n      <th>rolloff</th>\n      <th>spectral_bandwidth</th>\n      <th>zero_crossing_rate</th>\n      <th>tempogram</th>\n      <th>mfcc1</th>\n      <th>mfcc2</th>\n      <th>mfcc3</th>\n      <th>...</th>\n      <th>mfcc12</th>\n      <th>mfcc13</th>\n      <th>mfcc14</th>\n      <th>mfcc15</th>\n      <th>mfcc16</th>\n      <th>mfcc17</th>\n      <th>mfcc18</th>\n      <th>mfcc19</th>\n      <th>mfcc20</th>\n      <th>label</th>\n    </tr>\n  </thead>\n  <tbody>\n    <tr>\n      <th>0</th>\n      <td>blues.00011.wav</td>\n      <td>0.367152</td>\n      <td>1352.659665</td>\n      <td>2880.777863</td>\n      <td>1756.779795</td>\n      <td>0.043931</td>\n      <td>0.123116</td>\n      <td>-287.923737</td>\n      <td>124.018753</td>\n      <td>5.469892</td>\n      <td>...</td>\n      <td>-3.178224</td>\n      <td>-5.536158</td>\n      <td>-6.784436</td>\n      <td>-2.648156</td>\n      <td>-2.994559</td>\n      <td>-3.386818</td>\n      <td>-1.852647</td>\n      <td>1.839963</td>\n      <td>-4.890803</td>\n      <td>blues</td>\n    </tr>\n    <tr>\n      <th>1</th>\n      <td>blues.00022.wav</td>\n      <td>0.306537</td>\n      <td>1155.781221</td>\n      <td>2169.033056</td>\n      <td>1497.964259</td>\n      <td>0.058570</td>\n      <td>0.141313</td>\n      <td>-233.956253</td>\n      <td>136.145706</td>\n      <td>3.324411</td>\n      <td>...</td>\n      <td>-2.249821</td>\n      <td>3.947907</td>\n      <td>5.316488</td>\n      <td>0.810559</td>\n      <td>-1.107081</td>\n      <td>-4.556480</td>\n      <td>-2.430784</td>\n      <td>3.324836</td>\n      <td>-0.602447</td>\n      <td>blues</td>\n    </tr>\n    <tr>\n      <th>2</th>\n      <td>blues.00002.wav</td>\n      <td>0.363637</td>\n      <td>1552.811865</td>\n      <td>3042.260232</td>\n      <td>1747.702312</td>\n      <td>0.076291</td>\n      <td>0.134885</td>\n      <td>-90.722595</td>\n      <td>140.446304</td>\n      <td>-29.093889</td>\n      <td>...</td>\n      <td>5.791199</td>\n      <td>-8.907628</td>\n      <td>-1.077000</td>\n      <td>-9.229274</td>\n      <td>2.451689</td>\n      <td>-7.729094</td>\n      <td>-1.816407</td>\n      <td>-3.439720</td>\n      <td>-2.231259</td>\n      <td>blues</td>\n    </tr>\n    <tr>\n      <th>3</th>\n      <td>blues.00040.wav</td>\n      <td>0.397996</td>\n      <td>2272.439547</td>\n      <td>5108.215360</td>\n      <td>2356.806514</td>\n      <td>0.097643</td>\n      <td>0.163252</td>\n      <td>-110.247993</td>\n      <td>90.702934</td>\n      <td>-2.525756</td>\n      <td>...</td>\n      <td>5.952004</td>\n      <td>-8.023324</td>\n      <td>4.232331</td>\n      <td>-16.481607</td>\n      <td>6.544709</td>\n      <td>-5.692046</td>\n      <td>-3.643349</td>\n      <td>-4.852754</td>\n      <td>1.853226</td>\n      <td>blues</td>\n    </tr>\n    <tr>\n      <th>4</th>\n      <td>blues.00045.wav</td>\n      <td>0.429437</td>\n      <td>1739.134033</td>\n      <td>4551.141570</td>\n      <td>2290.407132</td>\n      <td>0.048048</td>\n      <td>0.194486</td>\n      <td>-163.216766</td>\n      <td>89.778847</td>\n      <td>12.976252</td>\n      <td>...</td>\n      <td>6.014823</td>\n      <td>-2.903660</td>\n      <td>-0.428329</td>\n      <td>-17.539125</td>\n      <td>4.164019</td>\n      <td>-5.987196</td>\n      <td>-7.864172</td>\n      <td>-8.569909</td>\n      <td>1.854272</td>\n      <td>blues</td>\n    </tr>\n  </tbody>\n</table>\n<p>5 rows × 28 columns</p>\n</div>"
     },
     "metadata": {},
     "execution_count": 16
    }
   ],
   "source": [
    "songs_df.head()"
   ]
  },
  {
   "cell_type": "code",
   "execution_count": 17,
   "metadata": {},
   "outputs": [
    {
     "output_type": "execute_result",
     "data": {
      "text/plain": "(500, 28)"
     },
     "metadata": {},
     "execution_count": 17
    }
   ],
   "source": [
    "songs_df.shape"
   ]
  },
  {
   "cell_type": "markdown",
   "metadata": {},
   "source": [
    "## Encoding the Labels"
   ]
  },
  {
   "cell_type": "code",
   "execution_count": 18,
   "metadata": {},
   "outputs": [
    {
     "output_type": "stream",
     "name": "stdout",
     "text": "[0 0 0 0 0 0 0 0 0 0 0 0 0 0 0 0 0 0 0 0 0 0 0 0 0 0 0 0 0 0 0 0 0 0 0 0 0\n 0 0 0 0 0 0 0 0 0 0 0 0 0 1 1 1 1 1 1 1 1 1 1 1 1 1 1 1 1 1 1 1 1 1 1 1 1\n 1 1 1 1 1 1 1 1 1 1 1 1 1 1 1 1 1 1 1 1 1 1 1 1 1 1 2 2 2 2 2 2 2 2 2 2 2\n 2 2 2 2 2 2 2 2 2 2 2 2 2 2 2 2 2 2 2 2 2 2 2 2 2 2 2 2 2 2 2 2 2 2 2 2 2\n 2 2 3 3 3 3 3 3 3 3 3 3 3 3 3 3 3 3 3 3 3 3 3 3 3 3 3 3 3 3 3 3 3 3 3 3 3\n 3 3 3 3 3 3 3 3 3 3 3 3 3 3 3 4 4 4 4 4 4 4 4 4 4 4 4 4 4 4 4 4 4 4 4 4 4\n 4 4 4 4 4 4 4 4 4 4 4 4 4 4 4 4 4 4 4 4 4 4 4 4 4 4 4 4 5 5 5 5 5 5 5 5 5\n 5 5 5 5 5 5 5 5 5 5 5 5 5 5 5 5 5 5 5 5 5 5 5 5 5 5 5 5 5 5 5 5 5 5 5 5 5\n 5 5 5 5 6 6 6 6 6 6 6 6 6 6 6 6 6 6 6 6 6 6 6 6 6 6 6 6 6 6 6 6 6 6 6 6 6\n 6 6 6 6 6 6 6 6 6 6 6 6 6 6 6 6 6 7 7 7 7 7 7 7 7 7 7 7 7 7 7 7 7 7 7 7 7\n 7 7 7 7 7 7 7 7 7 7 7 7 7 7 7 7 7 7 7 7 7 7 7 7 7 7 7 7 7 7 8 8 8 8 8 8 8\n 8 8 8 8 8 8 8 8 8 8 8 8 8 8 8 8 8 8 8 8 8 8 8 8 8 8 8 8 8 8 8 8 8 8 8 8 8\n 8 8 8 8 8 8 9 9 9 9 9 9 9 9 9 9 9 9 9 9 9 9 9 9 9 9 9 9 9 9 9 9 9 9 9 9 9\n 9 9 9 9 9 9 9 9 9 9 9 9 9 9 9 9 9 9 9]\n500\n"
    }
   ],
   "source": [
    "from sklearn import preprocessing\n",
    "le = preprocessing.LabelEncoder()\n",
    "y = le.fit_transform(songs_df['label'])\n",
    "print(y)\n",
    "print(len(y))"
   ]
  },
  {
   "cell_type": "markdown",
   "metadata": {},
   "source": [
    "## Scaling the Feature columns"
   ]
  },
  {
   "cell_type": "code",
   "execution_count": 19,
   "metadata": {},
   "outputs": [
    {
     "output_type": "stream",
     "name": "stdout",
     "text": "(500, 26)\n"
    }
   ],
   "source": [
    "scaler = preprocessing.StandardScaler()\n",
    "X = scaler.fit_transform(songs_df.iloc[:, 1:-1])\n",
    "print(X.shape)"
   ]
  },
  {
   "cell_type": "markdown",
   "metadata": {},
   "source": [
    "## KNeighbor Classifier and 5-Fold cross validation"
   ]
  },
  {
   "cell_type": "markdown",
   "metadata": {},
   "source": [
    "### Set random seed"
   ]
  },
  {
   "cell_type": "code",
   "execution_count": 20,
   "metadata": {},
   "outputs": [],
   "source": [
    "SEED = 520"
   ]
  },
  {
   "cell_type": "markdown",
   "metadata": {},
   "source": [
    "### Cross Validation"
   ]
  },
  {
   "cell_type": "code",
   "execution_count": 21,
   "metadata": {},
   "outputs": [
    {
     "output_type": "stream",
     "name": "stdout",
     "text": "5\naverage train accuracy: 0.7705\n    min train accuracy: 0.7425\n    max train accuracy: 0.7925\naverage valid accuracy: 0.6759999999999999\n    min valid accuracy: 0.63\n    max valid accuracy: 0.73\n"
    }
   ],
   "source": [
    "from sklearn.model_selection import KFold\n",
    "from sklearn.neighbors import KNeighborsClassifier\n",
    "from sklearn.metrics import accuracy_score\n",
    "\n",
    "kf = KFold(n_splits=5, random_state=SEED, shuffle=True)\n",
    "print(kf.get_n_splits(X))\n",
    "\n",
    "train_acc_history = []\n",
    "valid_acc_history = []\n",
    "\n",
    "for train_index, valid_index in kf.split(X):\n",
    "    X_train_split = X[train_index]\n",
    "    X_valid_spilt = X[valid_index]\n",
    "    y_train_split = y[train_index]\n",
    "    y_valid_split = y[valid_index]\n",
    "\n",
    "    neigh = KNeighborsClassifier(n_neighbors=5) # model init\n",
    "    neigh.fit(X_train_split, y_train_split) # model training\n",
    "\n",
    "    train_y_pred = neigh.predict(X_train_split) # predict by training data\n",
    "    train_acc = accuracy_score(y_train_split, train_y_pred) # get training accuracy\n",
    "    \n",
    "    valid_y_pred = neigh.predict(X_valid_spilt) # predict by validation data\n",
    "    valid_acc = accuracy_score(y_valid_split, valid_y_pred) # get valid accuracy\n",
    "\n",
    "    train_acc_history.append(train_acc)\n",
    "    valid_acc_history.append(valid_acc)\n",
    "\n",
    "print((\n",
    "    'average train accuracy: {}\\n' +\n",
    "    '    min train accuracy: {}\\n' +\n",
    "    '    max train accuracy: {}\\n' +\n",
    "    'average valid accuracy: {}\\n' +\n",
    "    '    min valid accuracy: {}\\n' +\n",
    "    '    max valid accuracy: {}').format(\n",
    "    np.mean(train_acc_history),                          # 輸出平均訓練準確度\n",
    "    np.min(train_acc_history),                           # 輸出最低訓練準確度\n",
    "    np.max(train_acc_history),                           # 輸出最高訓練準確度\n",
    "    np.mean(valid_acc_history),                          # 輸出平均驗證準確度\n",
    "    np.min(valid_acc_history),                           # 輸出最低驗證準確度\n",
    "    np.max(valid_acc_history)                            # 輸出最高驗證準確度\n",
    "))"
   ]
  },
  {
   "cell_type": "markdown",
   "metadata": {},
   "source": [
    "### Remove some features and re-train KNeighbor classifier"
   ]
  },
  {
   "cell_type": "code",
   "execution_count": 22,
   "metadata": {},
   "outputs": [
    {
     "output_type": "execute_result",
     "data": {
      "text/plain": "          filename  chroma_stft  spectral_centroid      rolloff  \\\n0  blues.00011.wav     0.367152        1352.659665  2880.777863   \n1  blues.00022.wav     0.306537        1155.781221  2169.033056   \n2  blues.00002.wav     0.363637        1552.811865  3042.260232   \n3  blues.00040.wav     0.397996        2272.439547  5108.215360   \n4  blues.00045.wav     0.429437        1739.134033  4551.141570   \n\n   spectral_bandwidth  tempogram       mfcc1       mfcc2      mfcc3  \\\n0         1756.779795   0.123116 -287.923737  124.018753   5.469892   \n1         1497.964259   0.141313 -233.956253  136.145706   3.324411   \n2         1747.702312   0.134885  -90.722595  140.446304 -29.093889   \n3         2356.806514   0.163252 -110.247993   90.702934  -2.525756   \n4         2290.407132   0.194486 -163.216766   89.778847  12.976252   \n\n       mfcc4  ...    mfcc12    mfcc13    mfcc14     mfcc15    mfcc16  \\\n0  33.657410  ... -3.178224 -5.536158 -6.784436  -2.648156 -2.994559   \n1  48.928532  ... -2.249821  3.947907  5.316488   0.810559 -1.107081   \n2  31.684338  ...  5.791199 -8.907628 -1.077000  -9.229274  2.451689   \n3  74.057938  ...  5.952004 -8.023324  4.232331 -16.481607  6.544709   \n4  80.702301  ...  6.014823 -2.903660 -0.428329 -17.539125  4.164019   \n\n     mfcc17    mfcc18    mfcc19    mfcc20  label  \n0 -3.386818 -1.852647  1.839963 -4.890803  blues  \n1 -4.556480 -2.430784  3.324836 -0.602447  blues  \n2 -7.729094 -1.816407 -3.439720 -2.231259  blues  \n3 -5.692046 -3.643349 -4.852754  1.853226  blues  \n4 -5.987196 -7.864172 -8.569909  1.854272  blues  \n\n[5 rows x 27 columns]",
      "text/html": "<div>\n<style scoped>\n    .dataframe tbody tr th:only-of-type {\n        vertical-align: middle;\n    }\n\n    .dataframe tbody tr th {\n        vertical-align: top;\n    }\n\n    .dataframe thead th {\n        text-align: right;\n    }\n</style>\n<table border=\"1\" class=\"dataframe\">\n  <thead>\n    <tr style=\"text-align: right;\">\n      <th></th>\n      <th>filename</th>\n      <th>chroma_stft</th>\n      <th>spectral_centroid</th>\n      <th>rolloff</th>\n      <th>spectral_bandwidth</th>\n      <th>tempogram</th>\n      <th>mfcc1</th>\n      <th>mfcc2</th>\n      <th>mfcc3</th>\n      <th>mfcc4</th>\n      <th>...</th>\n      <th>mfcc12</th>\n      <th>mfcc13</th>\n      <th>mfcc14</th>\n      <th>mfcc15</th>\n      <th>mfcc16</th>\n      <th>mfcc17</th>\n      <th>mfcc18</th>\n      <th>mfcc19</th>\n      <th>mfcc20</th>\n      <th>label</th>\n    </tr>\n  </thead>\n  <tbody>\n    <tr>\n      <th>0</th>\n      <td>blues.00011.wav</td>\n      <td>0.367152</td>\n      <td>1352.659665</td>\n      <td>2880.777863</td>\n      <td>1756.779795</td>\n      <td>0.123116</td>\n      <td>-287.923737</td>\n      <td>124.018753</td>\n      <td>5.469892</td>\n      <td>33.657410</td>\n      <td>...</td>\n      <td>-3.178224</td>\n      <td>-5.536158</td>\n      <td>-6.784436</td>\n      <td>-2.648156</td>\n      <td>-2.994559</td>\n      <td>-3.386818</td>\n      <td>-1.852647</td>\n      <td>1.839963</td>\n      <td>-4.890803</td>\n      <td>blues</td>\n    </tr>\n    <tr>\n      <th>1</th>\n      <td>blues.00022.wav</td>\n      <td>0.306537</td>\n      <td>1155.781221</td>\n      <td>2169.033056</td>\n      <td>1497.964259</td>\n      <td>0.141313</td>\n      <td>-233.956253</td>\n      <td>136.145706</td>\n      <td>3.324411</td>\n      <td>48.928532</td>\n      <td>...</td>\n      <td>-2.249821</td>\n      <td>3.947907</td>\n      <td>5.316488</td>\n      <td>0.810559</td>\n      <td>-1.107081</td>\n      <td>-4.556480</td>\n      <td>-2.430784</td>\n      <td>3.324836</td>\n      <td>-0.602447</td>\n      <td>blues</td>\n    </tr>\n    <tr>\n      <th>2</th>\n      <td>blues.00002.wav</td>\n      <td>0.363637</td>\n      <td>1552.811865</td>\n      <td>3042.260232</td>\n      <td>1747.702312</td>\n      <td>0.134885</td>\n      <td>-90.722595</td>\n      <td>140.446304</td>\n      <td>-29.093889</td>\n      <td>31.684338</td>\n      <td>...</td>\n      <td>5.791199</td>\n      <td>-8.907628</td>\n      <td>-1.077000</td>\n      <td>-9.229274</td>\n      <td>2.451689</td>\n      <td>-7.729094</td>\n      <td>-1.816407</td>\n      <td>-3.439720</td>\n      <td>-2.231259</td>\n      <td>blues</td>\n    </tr>\n    <tr>\n      <th>3</th>\n      <td>blues.00040.wav</td>\n      <td>0.397996</td>\n      <td>2272.439547</td>\n      <td>5108.215360</td>\n      <td>2356.806514</td>\n      <td>0.163252</td>\n      <td>-110.247993</td>\n      <td>90.702934</td>\n      <td>-2.525756</td>\n      <td>74.057938</td>\n      <td>...</td>\n      <td>5.952004</td>\n      <td>-8.023324</td>\n      <td>4.232331</td>\n      <td>-16.481607</td>\n      <td>6.544709</td>\n      <td>-5.692046</td>\n      <td>-3.643349</td>\n      <td>-4.852754</td>\n      <td>1.853226</td>\n      <td>blues</td>\n    </tr>\n    <tr>\n      <th>4</th>\n      <td>blues.00045.wav</td>\n      <td>0.429437</td>\n      <td>1739.134033</td>\n      <td>4551.141570</td>\n      <td>2290.407132</td>\n      <td>0.194486</td>\n      <td>-163.216766</td>\n      <td>89.778847</td>\n      <td>12.976252</td>\n      <td>80.702301</td>\n      <td>...</td>\n      <td>6.014823</td>\n      <td>-2.903660</td>\n      <td>-0.428329</td>\n      <td>-17.539125</td>\n      <td>4.164019</td>\n      <td>-5.987196</td>\n      <td>-7.864172</td>\n      <td>-8.569909</td>\n      <td>1.854272</td>\n      <td>blues</td>\n    </tr>\n  </tbody>\n</table>\n<p>5 rows × 27 columns</p>\n</div>"
     },
     "metadata": {},
     "execution_count": 22
    }
   ],
   "source": [
    "X_2 = songs_df.drop(['zero_crossing_rate'], axis = 1)\n",
    "X_2.head()"
   ]
  },
  {
   "cell_type": "code",
   "execution_count": 23,
   "metadata": {},
   "outputs": [
    {
     "output_type": "stream",
     "name": "stdout",
     "text": "(500, 25)\n"
    }
   ],
   "source": [
    "scaler = preprocessing.StandardScaler()\n",
    "X_2 = scaler.fit_transform(X_2.iloc[:, 1:-1])\n",
    "print(X_2.shape)"
   ]
  },
  {
   "cell_type": "code",
   "execution_count": 24,
   "metadata": {},
   "outputs": [
    {
     "output_type": "stream",
     "name": "stdout",
     "text": "5\naverage train accuracy: 0.772\n    min train accuracy: 0.755\n    max train accuracy: 0.7975\naverage valid accuracy: 0.684\n    min valid accuracy: 0.62\n    max valid accuracy: 0.73\n"
    }
   ],
   "source": [
    "kf = KFold(n_splits=5, random_state=SEED, shuffle=True)\n",
    "print(kf.get_n_splits(X_2))\n",
    "\n",
    "train_acc_history_2 = []\n",
    "valid_acc_history_2 = []\n",
    "\n",
    "for train_index, valid_index in kf.split(X_2):\n",
    "    X_train_split = X_2[train_index]\n",
    "    X_valid_spilt = X_2[valid_index]\n",
    "    y_train_split = y[train_index]\n",
    "    y_valid_split = y[valid_index]\n",
    "\n",
    "    neigh_2 = KNeighborsClassifier(n_neighbors=5) # model init\n",
    "    neigh_2.fit(X_train_split, y_train_split) # model training\n",
    "\n",
    "    train_y_pred = neigh_2.predict(X_train_split) # predict by training data\n",
    "    train_acc = accuracy_score(y_train_split, train_y_pred) # get training accuracy\n",
    "    \n",
    "    valid_y_pred = neigh_2.predict(X_valid_spilt) # predict by validation data\n",
    "    valid_acc = accuracy_score(y_valid_split, valid_y_pred) # get valid accuracy\n",
    "\n",
    "    train_acc_history_2.append(train_acc)\n",
    "    valid_acc_history_2.append(valid_acc)\n",
    "\n",
    "print((\n",
    "    'average train accuracy: {}\\n' +\n",
    "    '    min train accuracy: {}\\n' +\n",
    "    '    max train accuracy: {}\\n' +\n",
    "    'average valid accuracy: {}\\n' +\n",
    "    '    min valid accuracy: {}\\n' +\n",
    "    '    max valid accuracy: {}').format(\n",
    "    np.mean(train_acc_history_2),                          # 輸出平均訓練準確度\n",
    "    np.min(train_acc_history_2),                           # 輸出最低訓練準確度\n",
    "    np.max(train_acc_history_2),                           # 輸出最高訓練準確度\n",
    "    np.mean(valid_acc_history_2),                          # 輸出平均驗證準確度\n",
    "    np.min(valid_acc_history_2),                           # 輸出最低驗證準確度\n",
    "    np.max(valid_acc_history_2)                            # 輸出最高驗證準確度\n",
    "))"
   ]
  },
  {
   "cell_type": "markdown",
   "metadata": {},
   "source": [
    "## Try to use SVC"
   ]
  },
  {
   "cell_type": "code",
   "execution_count": 25,
   "metadata": {},
   "outputs": [
    {
     "output_type": "stream",
     "name": "stdout",
     "text": "(500, 25)\n"
    }
   ],
   "source": [
    "print(X_2.shape)"
   ]
  },
  {
   "cell_type": "code",
   "execution_count": 26,
   "metadata": {},
   "outputs": [
    {
     "output_type": "stream",
     "name": "stdout",
     "text": "5\naverage train accuracy: 0.8440000000000001\n    min train accuracy: 0.8325\n    max train accuracy: 0.865\naverage valid accuracy: 0.71\n    min valid accuracy: 0.62\n    max valid accuracy: 0.77\n"
    }
   ],
   "source": [
    "from sklearn.svm import SVC \n",
    "train_acc_history_svc = []\n",
    "valid_acc_history_svc = []\n",
    "\n",
    "kf = KFold(n_splits=5, random_state=SEED, shuffle=True)\n",
    "print(kf.get_n_splits(X_2))\n",
    "\n",
    "for train_index, valid_index in kf.split(X_2):\n",
    "    X_train_split = X[train_index]\n",
    "    X_valid_spilt = X[valid_index]\n",
    "    y_train_split = y[train_index]\n",
    "    y_valid_split = y[valid_index]\n",
    "\n",
    "    mysvc = SVC(random_state=SEED) # model init\n",
    "    mysvc.fit(X_train_split, y_train_split) # model training\n",
    "\n",
    "    train_y_pred = mysvc.predict(X_train_split) # predict by training data\n",
    "    train_acc = accuracy_score(y_train_split, train_y_pred) # get training accuracy\n",
    "    \n",
    "    valid_y_pred = mysvc.predict(X_valid_spilt) # predict by validation data\n",
    "    valid_acc = accuracy_score(y_valid_split, valid_y_pred) # get valid accuracy\n",
    "\n",
    "    train_acc_history_svc.append(train_acc)\n",
    "    valid_acc_history_svc.append(valid_acc)\n",
    "\n",
    "print((\n",
    "    'average train accuracy: {}\\n' +\n",
    "    '    min train accuracy: {}\\n' +\n",
    "    '    max train accuracy: {}\\n' +\n",
    "    'average valid accuracy: {}\\n' +\n",
    "    '    min valid accuracy: {}\\n' +\n",
    "    '    max valid accuracy: {}').format(\n",
    "    np.mean(train_acc_history_svc),                          # 輸出平均訓練準確度\n",
    "    np.min(train_acc_history_svc),                           # 輸出最低訓練準確度\n",
    "    np.max(train_acc_history_svc),                           # 輸出最高訓練準確度\n",
    "    np.mean(valid_acc_history_svc),                          # 輸出平均驗證準確度\n",
    "    np.min(valid_acc_history_svc),                           # 輸出最低驗證準確度\n",
    "    np.max(valid_acc_history_svc)                            # 輸出最高驗證準確度\n",
    "))"
   ]
  },
  {
   "cell_type": "code",
   "execution_count": null,
   "metadata": {},
   "outputs": [],
   "source": []
  }
 ],
 "metadata": {
  "language_info": {
   "codemirror_mode": {
    "name": "ipython",
    "version": 3
   },
   "file_extension": ".py",
   "mimetype": "text/x-python",
   "name": "python",
   "nbconvert_exporter": "python",
   "pygments_lexer": "ipython3",
   "version": "3.6.9-final"
  },
  "orig_nbformat": 2,
  "kernelspec": {
   "name": "mcahw4venv",
   "display_name": "MCAhw4venv"
  }
 },
 "nbformat": 4,
 "nbformat_minor": 2
}